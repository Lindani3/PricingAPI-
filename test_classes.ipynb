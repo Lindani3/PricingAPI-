{
 "cells": [
  {
   "cell_type": "code",
   "execution_count": 1,
   "id": "64db576d-4dcb-42d9-b6f4-63a5c9aad15c",
   "metadata": {},
   "outputs": [],
   "source": [
    "from holiday_fetcher import *"
   ]
  },
  {
   "cell_type": "code",
   "execution_count": 4,
   "id": "2c4ac4a6-a6f2-40d7-b89c-4a234ef54d29",
   "metadata": {},
   "outputs": [
    {
     "data": {
      "text/html": [
       "<div>\n",
       "<style scoped>\n",
       "    .dataframe tbody tr th:only-of-type {\n",
       "        vertical-align: middle;\n",
       "    }\n",
       "\n",
       "    .dataframe tbody tr th {\n",
       "        vertical-align: top;\n",
       "    }\n",
       "\n",
       "    .dataframe thead th {\n",
       "        text-align: right;\n",
       "    }\n",
       "</style>\n",
       "<table border=\"1\" class=\"dataframe\">\n",
       "  <thead>\n",
       "    <tr style=\"text-align: right;\">\n",
       "      <th></th>\n",
       "      <th>date</th>\n",
       "      <th>name</th>\n",
       "      <th>country_code</th>\n",
       "      <th>local_name</th>\n",
       "    </tr>\n",
       "  </thead>\n",
       "  <tbody>\n",
       "    <tr>\n",
       "      <th>0</th>\n",
       "      <td>2008-01-01</td>\n",
       "      <td>New Year's Day</td>\n",
       "      <td>ZA</td>\n",
       "      <td>New Year's Day</td>\n",
       "    </tr>\n",
       "    <tr>\n",
       "      <th>1</th>\n",
       "      <td>2008-03-21</td>\n",
       "      <td>Human Rights Day</td>\n",
       "      <td>ZA</td>\n",
       "      <td>Human Rights Day</td>\n",
       "    </tr>\n",
       "    <tr>\n",
       "      <th>2</th>\n",
       "      <td>2008-03-21</td>\n",
       "      <td>Good Friday</td>\n",
       "      <td>ZA</td>\n",
       "      <td>Good Friday</td>\n",
       "    </tr>\n",
       "    <tr>\n",
       "      <th>3</th>\n",
       "      <td>2008-03-24</td>\n",
       "      <td>Family Day</td>\n",
       "      <td>ZA</td>\n",
       "      <td>Family Day</td>\n",
       "    </tr>\n",
       "    <tr>\n",
       "      <th>4</th>\n",
       "      <td>2008-04-28</td>\n",
       "      <td>Freedom Day</td>\n",
       "      <td>ZA</td>\n",
       "      <td>Freedom Day</td>\n",
       "    </tr>\n",
       "    <tr>\n",
       "      <th>...</th>\n",
       "      <td>...</td>\n",
       "      <td>...</td>\n",
       "      <td>...</td>\n",
       "      <td>...</td>\n",
       "    </tr>\n",
       "    <tr>\n",
       "      <th>109</th>\n",
       "      <td>2010-04-05</td>\n",
       "      <td>Qingming Festival (Tomb-Sweeping Day)</td>\n",
       "      <td>cn</td>\n",
       "      <td>清明节</td>\n",
       "    </tr>\n",
       "    <tr>\n",
       "      <th>110</th>\n",
       "      <td>2010-05-01</td>\n",
       "      <td>Labour Day</td>\n",
       "      <td>cn</td>\n",
       "      <td>劳动节</td>\n",
       "    </tr>\n",
       "    <tr>\n",
       "      <th>111</th>\n",
       "      <td>2010-06-16</td>\n",
       "      <td>Dragon Boat Festival</td>\n",
       "      <td>cn</td>\n",
       "      <td>端午节</td>\n",
       "    </tr>\n",
       "    <tr>\n",
       "      <th>112</th>\n",
       "      <td>2010-09-22</td>\n",
       "      <td>Mid-Autumn Festival</td>\n",
       "      <td>cn</td>\n",
       "      <td>中秋节</td>\n",
       "    </tr>\n",
       "    <tr>\n",
       "      <th>113</th>\n",
       "      <td>2010-10-01</td>\n",
       "      <td>National Day</td>\n",
       "      <td>cn</td>\n",
       "      <td>国庆节</td>\n",
       "    </tr>\n",
       "  </tbody>\n",
       "</table>\n",
       "<p>114 rows × 4 columns</p>\n",
       "</div>"
      ],
      "text/plain": [
       "           date                                   name country_code  \\\n",
       "0    2008-01-01                         New Year's Day           ZA   \n",
       "1    2008-03-21                       Human Rights Day           ZA   \n",
       "2    2008-03-21                            Good Friday           ZA   \n",
       "3    2008-03-24                             Family Day           ZA   \n",
       "4    2008-04-28                            Freedom Day           ZA   \n",
       "..          ...                                    ...          ...   \n",
       "109  2010-04-05  Qingming Festival (Tomb-Sweeping Day)           cn   \n",
       "110  2010-05-01                             Labour Day           cn   \n",
       "111  2010-06-16                   Dragon Boat Festival           cn   \n",
       "112  2010-09-22                    Mid-Autumn Festival           cn   \n",
       "113  2010-10-01                           National Day           cn   \n",
       "\n",
       "           local_name  \n",
       "0      New Year's Day  \n",
       "1    Human Rights Day  \n",
       "2         Good Friday  \n",
       "3          Family Day  \n",
       "4         Freedom Day  \n",
       "..                ...  \n",
       "109               清明节  \n",
       "110               劳动节  \n",
       "111               端午节  \n",
       "112               中秋节  \n",
       "113               国庆节  \n",
       "\n",
       "[114 rows x 4 columns]"
      ]
     },
     "execution_count": 4,
     "metadata": {},
     "output_type": "execute_result"
    }
   ],
   "source": [
    "#Usage Example:\n",
    "countryCode = \"ZA+eg+US+cn\"\n",
    "\n",
    "startYear = 2008\n",
    "endYear = 2010\n",
    "\n",
    "holiday_fetcher = HolidayFetcher(countryCode, startYear, endYear)\n",
    "holidays_df = holiday_fetcher.getHolidaysData()\n",
    "holidays_df"
   ]
  },
  {
   "cell_type": "code",
   "execution_count": 3,
   "id": "92a9c601-7f8f-4ef0-b5b6-ab0b753e6597",
   "metadata": {},
   "outputs": [],
   "source": [
    "weekend_csv_path = \"countryWeekendTypes.csv\"\n",
    "day_calculations = DayCalculations(holidays_df, weekend_csv_path)\n",
    "\n",
    "start_date = date(2024, 1, 1)\n",
    "end_date = date(2025, 1, 1)"
   ]
  },
  {
   "cell_type": "code",
   "execution_count": 4,
   "id": "2d603ae7-8a46-4a8e-bc7f-77e7d05b3a3d",
   "metadata": {},
   "outputs": [
    {
     "name": "stdout",
     "output_type": "stream",
     "text": [
      "Empty DataFrame\n",
      "Columns: [date, name, country_code, local_name]\n",
      "Index: []\n"
     ]
    }
   ],
   "source": [
    "# Test Holidays inBetween \n",
    "holidays_between = holiday_fetcher.getHolidaysBetween('ZA', start_date, end_date)\n",
    "print(holidays_between)"
   ]
  },
  {
   "cell_type": "code",
   "execution_count": 5,
   "id": "7f240621-f518-4e15-aa35-8b35053039b1",
   "metadata": {},
   "outputs": [
    {
     "data": {
      "text/plain": [
       "datetime.date(2024, 6, 5)"
      ]
     },
     "execution_count": 5,
     "metadata": {},
     "output_type": "execute_result"
    }
   ],
   "source": [
    "# Date at which This data was retrived from Nager "
   ]
  },
  {
   "cell_type": "code",
   "execution_count": 6,
   "id": "705f6aed-7ded-4de0-96cb-1dd30be04118",
   "metadata": {},
   "outputs": [
    {
     "name": "stdout",
     "output_type": "stream",
     "text": [
      "Is 2024-01-01 a weekend in ZA?: False\n"
     ]
    }
   ],
   "source": [
    "# Test Weekend \n",
    "print(f\"Is {start_date} a weekend in ZA?: {day_calculations.isWeekend('ZA', start_date)}\")"
   ]
  },
  {
   "cell_type": "code",
   "execution_count": 7,
   "id": "c712f0f3-0202-4c92-9e46-cbf336d7ad8b",
   "metadata": {},
   "outputs": [
    {
     "data": {
      "text/plain": [
       "True"
      ]
     },
     "execution_count": 7,
     "metadata": {},
     "output_type": "execute_result"
    }
   ],
   "source": [
    "day_calculations.isLastBusinessDayInMonth('za',date(2024,2,29))"
   ]
  },
  {
   "cell_type": "code",
   "execution_count": 8,
   "id": "5c2cfd5f-8143-472f-83bf-23c81eb4e08b",
   "metadata": {},
   "outputs": [
    {
     "name": "stdout",
     "output_type": "stream",
     "text": [
      "Is 2024-05-29 a business day in ZA?: True\n",
      "Is 2024-08-02 a business day in ZA?: True\n"
     ]
    }
   ],
   "source": [
    "#Test Business Day \n",
    "de = date(2024, 5, 29) # Elections Day this data was recently added \n",
    "print(f\"Is {de} a business day in ZA?: {day_calculations.isBusinessDay('ZA', de)}\")\n",
    "dee = date(2024,8,2)\n",
    "# Check if it is a friday or saturday for on a Arabic country \n",
    "print(f\"Is {dee} a business day in ZA?: {not day_calculations.isBusinessDay('EG+ZA', dee)}\")\n"
   ]
  },
  {
   "cell_type": "code",
   "execution_count": 9,
   "id": "397a1d01-6f3b-4f3e-a031-f4386c845562",
   "metadata": {},
   "outputs": [
    {
     "name": "stdout",
     "output_type": "stream",
     "text": [
      "We add 0 days to 2024-03-21 and we get: 2024-03-21\n",
      "We add 0 days to 2024-06-01 and we get: 2024-06-03\n"
     ]
    }
   ],
   "source": [
    "# Test if does pick holidays in EG like friday\n",
    "de = date(2024, 3, 21) # This a a holiday it should return the next day \n",
    "num = 0\n",
    "print(f\"We add {num} days to {de} and we get: {day_calculations.addBusinessDays('ZA', de,num)}\")\n",
    " \n",
    "de2 = date(2024,6,1) # This is a holiday\n",
    "num2 = 0\n",
    "print(f\"We add {num2} days to {de2} and we get: {day_calculations.addBusinessDays('ZA', de2,num2)}\")\n"
   ]
  },
  {
   "cell_type": "code",
   "execution_count": 10,
   "id": "da31172c-451a-4372-8b84-53785ad65b1c",
   "metadata": {},
   "outputs": [
    {
     "name": "stdout",
     "output_type": "stream",
     "text": [
      "The last Business day in the day 2024-01-01 and we get: 2024-03-29\n"
     ]
    }
   ],
   "source": [
    "# Must Return the last business day of the month\n",
    "print(f\"The last Business day in the day {start_date} and we get: {day_calculations.getLastBusinessDateInMonth('ZA', de)}\")"
   ]
  },
  {
   "cell_type": "code",
   "execution_count": 11,
   "id": "7d8f8b3c-86cb-4f10-9232-b5322c0fe6d1",
   "metadata": {},
   "outputs": [
    {
     "name": "stdout",
     "output_type": "stream",
     "text": [
      "Is 2024-03-21 the last business day False\n"
     ]
    }
   ],
   "source": [
    "# Returns True or false if a day is the last Business day or not \n",
    "print(f\"Is {de} the last business day {day_calculations.isLastBusinessDayInMonth('ZA', de)}\")"
   ]
  },
  {
   "cell_type": "code",
   "execution_count": 12,
   "id": "c949f159-2876-4da8-b07e-06a72a3da440",
   "metadata": {},
   "outputs": [
    {
     "name": "stdout",
     "output_type": "stream",
     "text": [
      "Following Test with start date 2024-03-27, we get the result 2024-03-29\n",
      "Previous Good Test with start date 2024-04-01, we get the result 2024-05-01\n",
      "Modified Following Test with start date 2024-04-28, we get the result 2024-05-28\n",
      "Modified Previous Test with start date 2024-04-01, we get the result 2024-05-01\n",
      "Preseved Month End Test with start date 2024-02-29, we get the result 2024-03-29\n",
      "Preseved Month End Test with start date 2024-02-29, we get the result 2024-03-29\n"
     ]
    }
   ],
   "source": [
    "# Test Add Tenor\n",
    "# Test Following\n",
    "date_ = date(2024,3,27) \n",
    "print(f\"Following Test with start date {date_}, we get the result {day_calculations.addTenor('ZA',date_, '2d', 'f', True)}\")\n",
    "\n",
    "# Test Previous when landing on a holiday\n",
    "date_ = date(2024,4,1) \n",
    "print(f\"Previous Good Test with start date {date_}, we get the result {day_calculations.addTenor('ZA',date_, '1m', 'p', True)}\")\n",
    "\n",
    "#Test Modifed Following \n",
    "date_ = date(2024,4,28) \n",
    "print(f\"Modified Following Test with start date {date_}, we get the result {day_calculations.addTenor('ZA',date_, '1m', 'f', False)}\")\n",
    "\n",
    "#Test Modiefied Previous\n",
    "date__ = date(2024,4,1)\n",
    "print(f\"Modified Previous Test with start date {date__}, we get the result {day_calculations.addTenor('ZA',date__, '1m', 'mp', False)}\")\n",
    "\n",
    "# Test for Preserved Month End \n",
    "date__ = date(2024,2,29)\n",
    "print(f\"Preseved Month End Test with start date {date__}, we get the result {day_calculations.addTenor('ZA',date__, '1m', 'f', False)}\")\n",
    "\n",
    "# Test for Preserved Month End \n",
    "date__ = date(2024,2,29)\n",
    "print(f\"Preseved Month End Test with start date {date__}, we get the result {day_calculations.addTenor('ZA',date__, '1m', 'f', True)}\")\n",
    "\n",
    "\n"
   ]
  },
  {
   "cell_type": "code",
   "execution_count": 13,
   "id": "f2b71c95-1957-4f1a-8106-58a6db238412",
   "metadata": {},
   "outputs": [
    {
     "data": {
      "text/plain": [
       "0.13537381480365518"
      ]
     },
     "execution_count": 13,
     "metadata": {},
     "output_type": "execute_result"
    }
   ],
   "source": [
    "### Check rate conversion NAC* >>> NAC*\n",
    "fromBasis = financialCalc.dayCountFraction(date(2024,1,1),date(2025,1,1),'ACT/360')\n",
    "toBasis = financialCalc.dayCountFraction(date(2024,1,1),date(2025,1,1),'ACT/365')\n",
    "financialCalc.rateConvert(0.135,'NACQ',fromBasis,'NACM',toBasis)"
   ]
  },
  {
   "cell_type": "code",
   "execution_count": 14,
   "id": "7ed402d2-cf39-4838-bca2-1c3056192a5f",
   "metadata": {},
   "outputs": [
    {
     "data": {
      "text/plain": [
       "0.13765859168122763"
      ]
     },
     "execution_count": 14,
     "metadata": {},
     "output_type": "execute_result"
    }
   ],
   "source": [
    "# Check NAC* >> NACC\n",
    "financialCalc.rateConvert(0.135,'NACC',fromBasis,'NACM',toBasis)"
   ]
  },
  {
   "cell_type": "code",
   "execution_count": 15,
   "id": "6368d42d-25a8-4b99-b3e2-647c15daba16",
   "metadata": {},
   "outputs": [
    {
     "data": {
      "text/plain": [
       "0.13611080425186656"
      ]
     },
     "execution_count": 15,
     "metadata": {},
     "output_type": "execute_result"
    }
   ],
   "source": [
    "# Check NACC>> NAC*\n",
    "financialCalc.rateConvert(0.135,'NACM',fromBasis,'NACC',toBasis)"
   ]
  },
  {
   "cell_type": "code",
   "execution_count": 16,
   "id": "c035cab1-dd67-4027-9498-3e02efa4bacb",
   "metadata": {},
   "outputs": [
    {
     "data": {
      "text/plain": [
       "0.8740531693379762"
      ]
     },
     "execution_count": 16,
     "metadata": {},
     "output_type": "execute_result"
    }
   ],
   "source": [
    "#Check Discounts \n",
    "financialCalc.discountFactorFromRate(date(2024,1,1),date(2025,1,1),0.135,'NACM','ACT/365')\n"
   ]
  },
  {
   "cell_type": "code",
   "execution_count": 17,
   "id": "4069a00c-b94e-4caa-8783-0033eece361c",
   "metadata": {},
   "outputs": [
    {
     "name": "stdout",
     "output_type": "stream",
     "text": [
      "Discount Rate: 0.10327082098834654\n",
      "Price: 0.9742530281919465\n",
      "Consideration: 9742530.281919464\n"
     ]
    }
   ],
   "source": [
    "# Create a Treasury bill instance\n",
    "# Example usage:\n",
    "face_value = 10000000\n",
    "maturity_date = date(2008, 5, 15)\n",
    "interestRate = 0.1060\n",
    "num_days =91\n",
    "#current_date = datetime(2024, 6, 3)\n",
    "\n",
    "tbill = TreasuryBill(face_value, num_days,interestRate)\n",
    "print(\"Discount Rate:\", tbill.discountRate())\n",
    "print(\"Price:\", tbill.price())\n",
    "print(\"Consideration:\", tbill.consideration())"
   ]
  },
  {
   "cell_type": "code",
   "execution_count": 18,
   "id": "9a630b5a-3f22-458a-9061-fc7ebb52ea7a",
   "metadata": {},
   "outputs": [
    {
     "data": {
      "text/plain": [
       "datetime.date(2008, 11, 21)"
      ]
     },
     "execution_count": 18,
     "metadata": {},
     "output_type": "execute_result"
    }
   ],
   "source": [
    "date(2008,8,22) + timedelta(days=91)"
   ]
  },
  {
   "cell_type": "code",
   "execution_count": null,
   "id": "f71a22fc-1e6e-4e85-805d-b0e5cc98229a",
   "metadata": {},
   "outputs": [],
   "source": []
  },
  {
   "cell_type": "code",
   "execution_count": null,
   "id": "0404dce8-59e1-408d-8c61-2678d5710a93",
   "metadata": {},
   "outputs": [],
   "source": []
  },
  {
   "cell_type": "code",
   "execution_count": 19,
   "id": "de8599de-8c0c-4140-a09f-601d333e32b6",
   "metadata": {},
   "outputs": [
    {
     "name": "stdout",
     "output_type": "stream",
     "text": [
      "1.4109589041095891\n"
     ]
    }
   ],
   "source": [
    "start_date = date(2023,1,1)\n",
    "end_date = date(2024,5,30)\n",
    "basis = \"act/365\"\n",
    "day_count_fraction = financialCalc.dayCountFraction(start_date, end_date, basis)\n",
    "print(day_count_fraction)"
   ]
  },
  {
   "cell_type": "code",
   "execution_count": 20,
   "id": "85740768-60a2-4cb4-9c97-7bbae96d19c4",
   "metadata": {},
   "outputs": [
    {
     "name": "stdout",
     "output_type": "stream",
     "text": [
      "Discount Rate: 0.10327082098834654\n",
      "Price: 0.9742530281919465\n",
      "Consideration: 9742530.281919464\n"
     ]
    }
   ],
   "source": [
    "from datetime import datetime, timedelta,date\n",
    "\n",
    "class TreasuryBill:\n",
    "    def __init__(self, face_value, num_days, interestRate):\n",
    "        self.face_value = face_value  # Face value of the Treasury bill\n",
    "        self.interestRate = interestRate  # Simple interest rate of the bill\n",
    "        self.num_days = num_days\n",
    "\n",
    "\n",
    "\n",
    "    def discountRate(self):\n",
    "        \"\"\"\n",
    "        Calculate the discount rate of the Treasury bill.\n",
    "        \"\"\"\n",
    "        days_to_maturity = self.num_days\n",
    "        frac = days_to_maturity / 365\n",
    "        return (1 / frac) * (1 - 1 / (1 + self.interestRate * frac))\n",
    "\n",
    "    def price(self):\n",
    "        \"\"\"\n",
    "        Calculate the price of the Treasury bill.\n",
    "        \"\"\"\n",
    "        frac = self.num_days / 365\n",
    "        disc = self.discountRate()\n",
    "        return (1 - disc * frac)\n",
    "\n",
    "    def consideration(self):\n",
    "        \"\"\"\n",
    "        Calculate the consideration of the Treasury bill.\n",
    "        \"\"\"\n",
    "        return self.face_value * self.price()\n",
    "\n",
    "\n",
    "\n",
    "print(\"Discount Rate:\", tbill.discountRate())\n",
    "print(\"Price:\", tbill.price())\n",
    "print(\"Consideration:\", tbill.consideration())\n"
   ]
  },
  {
   "cell_type": "code",
   "execution_count": 21,
   "id": "8b7f7f7c-14e3-48d8-b777-ab779db6a9f6",
   "metadata": {},
   "outputs": [
    {
     "name": "stdout",
     "output_type": "stream",
     "text": [
      "Days to Maturity: 577\n",
      "Coupon Dates: [datetime.datetime(2023, 7, 2, 0, 0), datetime.datetime(2023, 12, 31, 0, 0), datetime.datetime(2024, 6, 30, 0, 0), datetime.datetime(2024, 12, 29, 0, 0), datetime.datetime(2025, 6, 29, 0, 0), datetime.datetime(2025, 12, 28, 0, 0)]\n",
      "Coupon Amount: 25.0\n",
      "Price: 996.3009674017115\n",
      "Consideration: 996.3009674017115\n"
     ]
    }
   ],
   "source": [
    "\n",
    "\n",
    "# Example usage:\n",
    "face_value = 1000\n",
    "issue_date = datetime(2023, 1, 1)\n",
    "maturity_date = datetime(2026, 1, 1)\n",
    "interest_rate = 0.05\n",
    "current_date = datetime(2024, 6, 3)\n",
    "\n",
    "ncd = NegotiableCertificateOfDeposit(face_value, issue_date, maturity_date, interest_rate)\n",
    "print(\"Days to Maturity:\", ncd.days_to_maturity(current_date))\n",
    "print(\"Coupon Dates:\", ncd.calculate_coupons())\n",
    "print(\"Coupon Amount:\", ncd.calculate_coupon_amount())\n",
    "print(\"Price:\", ncd.price(current_date))\n",
    "print(\"Consideration:\", ncd.consideration(current_date))\n",
    "\n"
   ]
  },
  {
   "cell_type": "code",
   "execution_count": 22,
   "id": "6f242a4b-ed65-45a0-a470-05d71fc4e78d",
   "metadata": {},
   "outputs": [
    {
     "name": "stdout",
     "output_type": "stream",
     "text": [
      "0.026304114551760124\n"
     ]
    }
   ],
   "source": [
    "\n",
    "# Example usage:\n",
    "nominal = 1000000\n",
    "valueDate = datetime(2024, 6, 3)\n",
    "effectiveDate = datetime(2024, 9, 3)\n",
    "tenorOrMatDates = \"3x6\"\n",
    "strikeRate = 0.05\n",
    "zeroCurve = [(datetime(2024, 6, 3), 0.02), (datetime(2025, 6, 3), 0.025), (datetime(2026, 6, 3), 0.03)]\n",
    "iType = \"LI\"\n",
    "rOutput = \"FSR\"\n",
    "\n",
    "fra_pricer = FRAPricer(nominal, valueDate, effectiveDate, tenorOrMatDates, strikeRate, zeroCurve, iType, rOutput)\n",
    "print(fra_pricer.get_result())\n"
   ]
  },
  {
   "cell_type": "code",
   "execution_count": 23,
   "id": "e76a7113-c248-4f24-b55e-94dd4b457ed4",
   "metadata": {},
   "outputs": [],
   "source": [
    "def linInter(a,f_a,b,f_b,x):\n",
    "    return ((x-a)/(b-a))*f_b + ((b-x)/(b-a))*f_a"
   ]
  },
  {
   "cell_type": "code",
   "execution_count": 24,
   "id": "2831a844-e84f-4e27-9d22-a76680907a39",
   "metadata": {},
   "outputs": [
    {
     "data": {
      "text/plain": [
       "5.949981046553975"
      ]
     },
     "execution_count": 24,
     "metadata": {},
     "output_type": "execute_result"
    }
   ],
   "source": [
    "import math\n",
    "t2 = date(2009,1,14) # want\n",
    "t1 = date(2008,10,14)  \n",
    "t0 = date(2008,1,14)\n",
    "a = date(2008,11,26) # start \n",
    "b = date(2009,2,26) # end \n",
    "f_a = 11.539\n",
    "f_b = 11.467\n",
    "r1 = 0.1153086957\n",
    "r1_pri = 11.540869565217392\n",
    "r2_pri = 11.500652173913045/100\n",
    "r2 = 0.1149065217\n",
    "num1 = (t1-t0).days\n",
    "num2 = (t2-t0).days\n",
    "dem = (t2-t1).days\n",
    "((math.exp(-r1*(num1/365)))/(math.exp(-num2/365))-1)*(365/dem)"
   ]
  },
  {
   "cell_type": "code",
   "execution_count": 25,
   "id": "a1e22c93-469e-423d-9cdb-24cb2693030b",
   "metadata": {},
   "outputs": [
    {
     "data": {
      "text/plain": [
       "22.601324671270078"
      ]
     },
     "execution_count": 25,
     "metadata": {},
     "output_type": "execute_result"
    }
   ],
   "source": [
    "100*(92/365)*(1+r2*(num2/365))**(-1)"
   ]
  },
  {
   "cell_type": "code",
   "execution_count": 26,
   "id": "a87eb436-a8a0-4a56-9acf-af8a5f6248f4",
   "metadata": {},
   "outputs": [
    {
     "data": {
      "text/plain": [
       "datetime.timedelta(days=379)"
      ]
     },
     "execution_count": 26,
     "metadata": {},
     "output_type": "execute_result"
    }
   ],
   "source": [
    "(t2-date(2008,1,1))"
   ]
  },
  {
   "cell_type": "code",
   "execution_count": 27,
   "id": "3e53d8ee-6e5a-4998-91a7-b257b62dc630",
   "metadata": {},
   "outputs": [
    {
     "data": {
      "text/plain": [
       "11.500652173913045"
      ]
     },
     "execution_count": 27,
     "metadata": {},
     "output_type": "execute_result"
    }
   ],
   "source": [
    "linInter(a,f_a,b,f_b,t2)\n"
   ]
  },
  {
   "cell_type": "code",
   "execution_count": 28,
   "id": "f6d739a2-c7de-43c0-83e8-4e6fd7402531",
   "metadata": {},
   "outputs": [],
   "source": [
    "a_ = math.exp(-r1_pri*(num1/365))\n",
    "b_ = math.exp(-r2_pri*(num2/365))\n",
    "a = math.exp(-r1*(num1/365))\n",
    "b = math.exp(-r2*(num2/365))\n"
   ]
  },
  {
   "cell_type": "code",
   "execution_count": 29,
   "id": "15fcc3f7-d5e9-4ce5-8b43-7454b85551f5",
   "metadata": {},
   "outputs": [],
   "source": [
    "x = (r2_pri*num2 - r1_pri*num1)/(92)\n",
    "y = (r2*num2 - r1*num1)/(92)*100"
   ]
  },
  {
   "cell_type": "code",
   "execution_count": 30,
   "id": "1c116103-b051-442e-b8b7-be565ef57ecc",
   "metadata": {},
   "outputs": [
    {
     "data": {
      "text/plain": [
       "14132193.056051316"
      ]
     },
     "execution_count": 30,
     "metadata": {},
     "output_type": "execute_result"
    }
   ],
   "source": [
    "PV_base = 100000000*(y-10.74)*(92/366)*(math.exp(-r2*(366/365)))\n",
    "PV_base"
   ]
  },
  {
   "cell_type": "code",
   "execution_count": 31,
   "id": "9b9a9603-6f73-41c5-b47c-24f55f6276d1",
   "metadata": {},
   "outputs": [
    {
     "data": {
      "text/plain": [
       "22.46008651708124"
      ]
     },
     "execution_count": 31,
     "metadata": {},
     "output_type": "execute_result"
    }
   ],
   "source": [
    "100*(92/365)*(math.exp(-r2_pri*(366/365)))"
   ]
  },
  {
   "cell_type": "code",
   "execution_count": 32,
   "id": "52693b4a-5d70-4ebd-bc58-3611bf6e6e49",
   "metadata": {},
   "outputs": [
    {
     "data": {
      "text/plain": [
       "11.370874261304348"
      ]
     },
     "execution_count": 32,
     "metadata": {},
     "output_type": "execute_result"
    }
   ],
   "source": [
    "y"
   ]
  },
  {
   "cell_type": "code",
   "execution_count": 33,
   "id": "b11045e2-5f59-497b-a059-6167b87fd750",
   "metadata": {},
   "outputs": [
    {
     "data": {
      "text/plain": [
       "-1002937066.916717"
      ]
     },
     "execution_count": 33,
     "metadata": {},
     "output_type": "execute_result"
    }
   ],
   "source": [
    "PV_bambed = 100000000*(x-10.74)*(92/365)*(math.exp(-r2_pri*(366/365)))\n",
    "PV_bambed"
   ]
  },
  {
   "cell_type": "code",
   "execution_count": 34,
   "id": "233995e5-d639-47e3-87a9-a59cd18f4bf0",
   "metadata": {},
   "outputs": [
    {
     "data": {
      "text/plain": [
       "-1017069259.9727684"
      ]
     },
     "execution_count": 34,
     "metadata": {},
     "output_type": "execute_result"
    }
   ],
   "source": [
    "(PV_bambed - PV_base)"
   ]
  },
  {
   "cell_type": "code",
   "execution_count": 35,
   "id": "74653712-1613-4d8b-9109-2be329b71974",
   "metadata": {},
   "outputs": [
    {
     "data": {
      "text/plain": [
       "0.11500652173913045"
      ]
     },
     "execution_count": 35,
     "metadata": {},
     "output_type": "execute_result"
    }
   ],
   "source": [
    "r2_pri"
   ]
  },
  {
   "cell_type": "code",
   "execution_count": 36,
   "id": "b22e9917-6d30-4cc9-9f87-cf2f189460a8",
   "metadata": {},
   "outputs": [
    {
     "data": {
      "text/plain": [
       "-33.91419428166352"
      ]
     },
     "execution_count": 36,
     "metadata": {},
     "output_type": "execute_result"
    }
   ],
   "source": [
    "x"
   ]
  },
  {
   "cell_type": "code",
   "execution_count": 37,
   "id": "4454a044-bb5f-4271-9f9a-05524d7dcc59",
   "metadata": {},
   "outputs": [
    {
     "data": {
      "text/plain": [
       "11.370874261304348"
      ]
     },
     "execution_count": 37,
     "metadata": {},
     "output_type": "execute_result"
    }
   ],
   "source": [
    "y"
   ]
  },
  {
   "cell_type": "code",
   "execution_count": 38,
   "id": "b18239ee-2c6c-4a1b-8203-9847989be8ad",
   "metadata": {},
   "outputs": [
    {
     "data": {
      "text/plain": [
       "0.11500652173913045"
      ]
     },
     "execution_count": 38,
     "metadata": {},
     "output_type": "execute_result"
    }
   ],
   "source": [
    "r2_pri"
   ]
  },
  {
   "cell_type": "code",
   "execution_count": null,
   "id": "5272cae7-dc82-4b7d-92ad-ebe545e03c13",
   "metadata": {},
   "outputs": [],
   "source": [
    "math.exp(-)"
   ]
  },
  {
   "cell_type": "code",
   "execution_count": null,
   "id": "9ed36396-ef69-476d-9102-7869deb17aa7",
   "metadata": {},
   "outputs": [],
   "source": []
  }
 ],
 "metadata": {
  "kernelspec": {
   "display_name": "Python 3 (ipykernel)",
   "language": "python",
   "name": "python3"
  },
  "language_info": {
   "codemirror_mode": {
    "name": "ipython",
    "version": 3
   },
   "file_extension": ".py",
   "mimetype": "text/x-python",
   "name": "python",
   "nbconvert_exporter": "python",
   "pygments_lexer": "ipython3",
   "version": "3.11.7"
  }
 },
 "nbformat": 4,
 "nbformat_minor": 5
}
